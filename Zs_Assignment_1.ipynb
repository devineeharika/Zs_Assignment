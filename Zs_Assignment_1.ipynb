{
  "nbformat": 4,
  "nbformat_minor": 0,
  "metadata": {
    "colab": {
      "name": "Zs_Assignment_1.ipynb",
      "provenance": [],
      "collapsed_sections": []
    },
    "kernelspec": {
      "display_name": "Python 3",
      "name": "python3"
    },
    "language_info": {
      "name": "python"
    }
  },
  "cells": [
    {
      "cell_type": "code",
      "metadata": {
        "id": "Kp8CDQPaJv-X"
      },
      "source": [
        "import pandas as pd\n",
        "import numpy as np\n",
        "import matplotlib.pyplot as plt\n",
        "import seaborn as sns\n",
        "import scipy.stats as stats\n",
        "from sklearn.externals import joblib \n",
        "import nltk\n",
        "import re\n",
        "import string\n",
        "from sklearn.pipeline import Pipeline\n",
        "from nltk.corpus import stopwords\n",
        "from nltk.tokenize import word_tokenize \n",
        "from wordcloud import WordCloud\n",
        "from textwrap import wrap\n",
        "import textblob\n",
        "import tensorflow as tf\n",
        "from sklearn.preprocessing import LabelEncoder\n",
        "from sklearn.model_selection import train_test_split\n",
        "import tensorflow as tf\n",
        "from tensorflow import keras\n",
        "import csv\n",
        "from sklearn import metrics\n",
        "from sklearn.metrics import roc_auc_score\n",
        "\n"
      ],
      "execution_count": 60,
      "outputs": []
    },
    {
      "cell_type": "code",
      "metadata": {
        "id": "MpjRJTUwJ8Wr"
      },
      "source": [
        "Train = pd.read_csv(\"/content/train_file.csv\")\n",
        "Test = pd.read_csv(\"/content/test_file.csv\")"
      ],
      "execution_count": 61,
      "outputs": []
    },
    {
      "cell_type": "code",
      "metadata": {
        "colab": {
          "base_uri": "https://localhost:8080/"
        },
        "id": "lKyLyWZsJ8_3",
        "outputId": "71bd668b-5571-4dfa-914c-fa4aebe2e2c4"
      },
      "source": [
        "Train.shape\n",
        "Test.shape"
      ],
      "execution_count": 62,
      "outputs": [
        {
          "output_type": "execute_result",
          "data": {
            "text/plain": [
              "(37288, 9)"
            ]
          },
          "metadata": {},
          "execution_count": 62
        }
      ]
    },
    {
      "cell_type": "code",
      "metadata": {
        "colab": {
          "base_uri": "https://localhost:8080/",
          "height": 666
        },
        "id": "-Iuz2vaaKAcT",
        "outputId": "05d9c72e-d904-4636-f75a-ec2c36e84f65"
      },
      "source": [
        "Train.head()"
      ],
      "execution_count": 63,
      "outputs": [
        {
          "output_type": "execute_result",
          "data": {
            "text/html": [
              "<div>\n",
              "<style scoped>\n",
              "    .dataframe tbody tr th:only-of-type {\n",
              "        vertical-align: middle;\n",
              "    }\n",
              "\n",
              "    .dataframe tbody tr th {\n",
              "        vertical-align: top;\n",
              "    }\n",
              "\n",
              "    .dataframe thead th {\n",
              "        text-align: right;\n",
              "    }\n",
              "</style>\n",
              "<table border=\"1\" class=\"dataframe\">\n",
              "  <thead>\n",
              "    <tr style=\"text-align: right;\">\n",
              "      <th></th>\n",
              "      <th>IDLink</th>\n",
              "      <th>Title</th>\n",
              "      <th>Headline</th>\n",
              "      <th>Source</th>\n",
              "      <th>Topic</th>\n",
              "      <th>PublishDate</th>\n",
              "      <th>Facebook</th>\n",
              "      <th>GooglePlus</th>\n",
              "      <th>LinkedIn</th>\n",
              "      <th>SentimentTitle</th>\n",
              "      <th>SentimentHeadline</th>\n",
              "    </tr>\n",
              "  </thead>\n",
              "  <tbody>\n",
              "    <tr>\n",
              "      <th>0</th>\n",
              "      <td>Tr3CMgRv1N</td>\n",
              "      <td>Obama Lays Wreath at Arlington National Cemetery</td>\n",
              "      <td>Obama Lays Wreath at Arlington National Cemete...</td>\n",
              "      <td>USA TODAY</td>\n",
              "      <td>obama</td>\n",
              "      <td>2002-04-02 00:00:00</td>\n",
              "      <td>-1</td>\n",
              "      <td>-1</td>\n",
              "      <td>-1</td>\n",
              "      <td>0.000000</td>\n",
              "      <td>-0.053300</td>\n",
              "    </tr>\n",
              "    <tr>\n",
              "      <th>1</th>\n",
              "      <td>Wc81vGp8qZ</td>\n",
              "      <td>A Look at the Health of the Chinese Economy</td>\n",
              "      <td>Tim Haywood, investment director business-unit...</td>\n",
              "      <td>Bloomberg</td>\n",
              "      <td>economy</td>\n",
              "      <td>2008-09-20 00:00:00</td>\n",
              "      <td>-1</td>\n",
              "      <td>-1</td>\n",
              "      <td>-1</td>\n",
              "      <td>0.208333</td>\n",
              "      <td>-0.156386</td>\n",
              "    </tr>\n",
              "    <tr>\n",
              "      <th>2</th>\n",
              "      <td>zNGH03CrZH</td>\n",
              "      <td>Nouriel Roubini: Global Economy Not Back to 2008</td>\n",
              "      <td>Nouriel Roubini, NYU professor and chairman at...</td>\n",
              "      <td>Bloomberg</td>\n",
              "      <td>economy</td>\n",
              "      <td>2012-01-28 00:00:00</td>\n",
              "      <td>-1</td>\n",
              "      <td>-1</td>\n",
              "      <td>-1</td>\n",
              "      <td>-0.425210</td>\n",
              "      <td>0.139754</td>\n",
              "    </tr>\n",
              "    <tr>\n",
              "      <th>3</th>\n",
              "      <td>3sM1H0W8ts</td>\n",
              "      <td>Finland GDP Expands In Q4</td>\n",
              "      <td>Finland's economy expanded marginally in the t...</td>\n",
              "      <td>RTT News</td>\n",
              "      <td>economy</td>\n",
              "      <td>2015-03-01 00:06:00</td>\n",
              "      <td>-1</td>\n",
              "      <td>-1</td>\n",
              "      <td>-1</td>\n",
              "      <td>0.000000</td>\n",
              "      <td>0.026064</td>\n",
              "    </tr>\n",
              "    <tr>\n",
              "      <th>4</th>\n",
              "      <td>wUbnxgvqaZ</td>\n",
              "      <td>Tourism, govt spending buoys Thai economy in J...</td>\n",
              "      <td>Tourism and public spending continued to boost...</td>\n",
              "      <td>The Nation - Thailand&amp;#39;s English news</td>\n",
              "      <td>economy</td>\n",
              "      <td>2015-03-01 00:11:00</td>\n",
              "      <td>-1</td>\n",
              "      <td>-1</td>\n",
              "      <td>-1</td>\n",
              "      <td>0.000000</td>\n",
              "      <td>0.141084</td>\n",
              "    </tr>\n",
              "  </tbody>\n",
              "</table>\n",
              "</div>"
            ],
            "text/plain": [
              "       IDLink  ... SentimentHeadline\n",
              "0  Tr3CMgRv1N  ...         -0.053300\n",
              "1  Wc81vGp8qZ  ...         -0.156386\n",
              "2  zNGH03CrZH  ...          0.139754\n",
              "3  3sM1H0W8ts  ...          0.026064\n",
              "4  wUbnxgvqaZ  ...          0.141084\n",
              "\n",
              "[5 rows x 11 columns]"
            ]
          },
          "metadata": {},
          "execution_count": 63
        }
      ]
    },
    {
      "cell_type": "code",
      "metadata": {
        "colab": {
          "base_uri": "https://localhost:8080/",
          "height": 297
        },
        "id": "M2js6DrIKFUj",
        "outputId": "fe840b52-540c-42f2-9da1-4cc5d3aa82ed"
      },
      "source": [
        "Train.describe()"
      ],
      "execution_count": 64,
      "outputs": [
        {
          "output_type": "execute_result",
          "data": {
            "text/html": [
              "<div>\n",
              "<style scoped>\n",
              "    .dataframe tbody tr th:only-of-type {\n",
              "        vertical-align: middle;\n",
              "    }\n",
              "\n",
              "    .dataframe tbody tr th {\n",
              "        vertical-align: top;\n",
              "    }\n",
              "\n",
              "    .dataframe thead th {\n",
              "        text-align: right;\n",
              "    }\n",
              "</style>\n",
              "<table border=\"1\" class=\"dataframe\">\n",
              "  <thead>\n",
              "    <tr style=\"text-align: right;\">\n",
              "      <th></th>\n",
              "      <th>Facebook</th>\n",
              "      <th>GooglePlus</th>\n",
              "      <th>LinkedIn</th>\n",
              "      <th>SentimentTitle</th>\n",
              "      <th>SentimentHeadline</th>\n",
              "    </tr>\n",
              "  </thead>\n",
              "  <tbody>\n",
              "    <tr>\n",
              "      <th>count</th>\n",
              "      <td>55932.000000</td>\n",
              "      <td>55932.000000</td>\n",
              "      <td>55932.000000</td>\n",
              "      <td>55932.000000</td>\n",
              "      <td>55932.000000</td>\n",
              "    </tr>\n",
              "    <tr>\n",
              "      <th>mean</th>\n",
              "      <td>132.050329</td>\n",
              "      <td>4.551616</td>\n",
              "      <td>14.300132</td>\n",
              "      <td>-0.006318</td>\n",
              "      <td>-0.029577</td>\n",
              "    </tr>\n",
              "    <tr>\n",
              "      <th>std</th>\n",
              "      <td>722.931314</td>\n",
              "      <td>21.137177</td>\n",
              "      <td>76.651420</td>\n",
              "      <td>0.137569</td>\n",
              "      <td>0.143038</td>\n",
              "    </tr>\n",
              "    <tr>\n",
              "      <th>min</th>\n",
              "      <td>-1.000000</td>\n",
              "      <td>-1.000000</td>\n",
              "      <td>-1.000000</td>\n",
              "      <td>-0.838525</td>\n",
              "      <td>-0.755355</td>\n",
              "    </tr>\n",
              "    <tr>\n",
              "      <th>25%</th>\n",
              "      <td>0.000000</td>\n",
              "      <td>0.000000</td>\n",
              "      <td>0.000000</td>\n",
              "      <td>-0.079057</td>\n",
              "      <td>-0.116927</td>\n",
              "    </tr>\n",
              "    <tr>\n",
              "      <th>50%</th>\n",
              "      <td>6.000000</td>\n",
              "      <td>0.000000</td>\n",
              "      <td>0.000000</td>\n",
              "      <td>0.000000</td>\n",
              "      <td>-0.027277</td>\n",
              "    </tr>\n",
              "    <tr>\n",
              "      <th>75%</th>\n",
              "      <td>37.000000</td>\n",
              "      <td>2.000000</td>\n",
              "      <td>4.000000</td>\n",
              "      <td>0.063969</td>\n",
              "      <td>0.057354</td>\n",
              "    </tr>\n",
              "    <tr>\n",
              "      <th>max</th>\n",
              "      <td>49211.000000</td>\n",
              "      <td>1267.000000</td>\n",
              "      <td>3716.000000</td>\n",
              "      <td>0.962354</td>\n",
              "      <td>0.964646</td>\n",
              "    </tr>\n",
              "  </tbody>\n",
              "</table>\n",
              "</div>"
            ],
            "text/plain": [
              "           Facebook    GooglePlus  ...  SentimentTitle  SentimentHeadline\n",
              "count  55932.000000  55932.000000  ...    55932.000000       55932.000000\n",
              "mean     132.050329      4.551616  ...       -0.006318          -0.029577\n",
              "std      722.931314     21.137177  ...        0.137569           0.143038\n",
              "min       -1.000000     -1.000000  ...       -0.838525          -0.755355\n",
              "25%        0.000000      0.000000  ...       -0.079057          -0.116927\n",
              "50%        6.000000      0.000000  ...        0.000000          -0.027277\n",
              "75%       37.000000      2.000000  ...        0.063969           0.057354\n",
              "max    49211.000000   1267.000000  ...        0.962354           0.964646\n",
              "\n",
              "[8 rows x 5 columns]"
            ]
          },
          "metadata": {},
          "execution_count": 64
        }
      ]
    },
    {
      "cell_type": "markdown",
      "metadata": {
        "id": "D9_6bppINFdK"
      },
      "source": [
        "**Duplicates Removal**"
      ]
    },
    {
      "cell_type": "code",
      "metadata": {
        "colab": {
          "base_uri": "https://localhost:8080/"
        },
        "id": "xzxuh0OiKJ1H",
        "outputId": "cccbe672-d536-4bdf-ea31-c72f6c890033"
      },
      "source": [
        "duplicateRowsDF = Train[Train.duplicated()]\n",
        "print(duplicateRowsDF)\n",
        "Train.drop_duplicates(inplace=True)"
      ],
      "execution_count": 65,
      "outputs": [
        {
          "output_type": "stream",
          "name": "stdout",
          "text": [
            "Empty DataFrame\n",
            "Columns: [IDLink, Title, Headline, Source, Topic, PublishDate, Facebook, GooglePlus, LinkedIn, SentimentTitle, SentimentHeadline]\n",
            "Index: []\n"
          ]
        }
      ]
    },
    {
      "cell_type": "markdown",
      "metadata": {
        "id": "FqgsKZlXNKZo"
      },
      "source": [
        "**Handling Missing Values**"
      ]
    },
    {
      "cell_type": "code",
      "metadata": {
        "colab": {
          "base_uri": "https://localhost:8080/"
        },
        "id": "O5u3gJE_KYr3",
        "outputId": "eaf21399-87f3-4f7a-fca3-d0f93ea734f4"
      },
      "source": [
        "Train.isnull().sum()\n"
      ],
      "execution_count": 66,
      "outputs": [
        {
          "output_type": "execute_result",
          "data": {
            "text/plain": [
              "IDLink                 0\n",
              "Title                  0\n",
              "Headline               0\n",
              "Source               175\n",
              "Topic                  0\n",
              "PublishDate            0\n",
              "Facebook               0\n",
              "GooglePlus             0\n",
              "LinkedIn               0\n",
              "SentimentTitle         0\n",
              "SentimentHeadline      0\n",
              "dtype: int64"
            ]
          },
          "metadata": {},
          "execution_count": 66
        }
      ]
    },
    {
      "cell_type": "code",
      "metadata": {
        "colab": {
          "base_uri": "https://localhost:8080/"
        },
        "id": "iyIT__mrK5bj",
        "outputId": "bafe3e9f-fd46-4469-ce8a-30ad48fdb3b8"
      },
      "source": [
        "Test.isnull().sum()\n"
      ],
      "execution_count": 67,
      "outputs": [
        {
          "output_type": "execute_result",
          "data": {
            "text/plain": [
              "IDLink           0\n",
              "Title            0\n",
              "Headline         0\n",
              "Source         101\n",
              "Topic            0\n",
              "PublishDate      0\n",
              "Facebook         0\n",
              "GooglePlus       0\n",
              "LinkedIn         0\n",
              "dtype: int64"
            ]
          },
          "metadata": {},
          "execution_count": 67
        }
      ]
    },
    {
      "cell_type": "code",
      "metadata": {
        "colab": {
          "base_uri": "https://localhost:8080/"
        },
        "id": "m9dtZMa_K8V2",
        "outputId": "e5f06ff5-4579-4c5a-85ca-aa204257365c"
      },
      "source": [
        "Train['Source'].value_counts()[:5]\n"
      ],
      "execution_count": 68,
      "outputs": [
        {
          "output_type": "execute_result",
          "data": {
            "text/plain": [
              "Bloomberg         992\n",
              "Reuters           763\n",
              "ABC News          645\n",
              "New York Times    573\n",
              "The Guardian      551\n",
              "Name: Source, dtype: int64"
            ]
          },
          "metadata": {},
          "execution_count": 68
        }
      ]
    },
    {
      "cell_type": "code",
      "metadata": {
        "id": "aI6sBpfiLAe6"
      },
      "source": [
        "Train['Source'] = Train['Source'].fillna('Bloomberg')\n",
        "Test['Source'] = Test['Source'].fillna('Bloomberg')"
      ],
      "execution_count": 69,
      "outputs": []
    },
    {
      "cell_type": "markdown",
      "metadata": {
        "id": "OjE5N7anNQ-0"
      },
      "source": [
        "**Data Visualization**"
      ]
    },
    {
      "cell_type": "code",
      "metadata": {
        "id": "DuT62LT6LGoz"
      },
      "source": [
        "def plot_frequency_charts(df, feature,title):\n",
        "    freq_df = pd.DataFrame()\n",
        "    freq_df[feature] = df[feature]\n",
        "    \n",
        "    f, ax = plt.subplots(1,1, figsize=(8,4))\n",
        "    total = float(len(df))\n",
        "    g = sns.countplot(df[feature], order = df[feature].value_counts().index[:20], palette='Set3')\n",
        "    g.set_title(\"Number and percentage of {}\".format(title))\n",
        "\n",
        "    for p in ax.patches:\n",
        "        height = p.get_height()\n",
        "        ax.text(p.get_x()+p.get_width()/2.,\n",
        "                height + 3,\n",
        "                '{:1.2f}%'.format(100*height/total),\n",
        "                ha=\"center\") \n",
        "\n",
        "    plt.title('Frequency of {} there in news data'.format(feature))\n",
        "    plt.ylabel('Frequency', fontsize=12)\n",
        "    \n",
        "    plt.xticks(rotation=90)\n",
        "    plt.show()"
      ],
      "execution_count": 70,
      "outputs": []
    },
    {
      "cell_type": "code",
      "metadata": {
        "colab": {
          "base_uri": "https://localhost:8080/",
          "height": 791
        },
        "id": "d0kLf7hyLIBa",
        "outputId": "8b53cf39-d180-4ec0-e807-b2bc1e1b3ec5"
      },
      "source": [
        "\n",
        "plot_frequency_charts(Train, 'Topic','topic')\n",
        "plot_frequency_charts(Train, 'Source','source')\n"
      ],
      "execution_count": 71,
      "outputs": [
        {
          "output_type": "stream",
          "name": "stderr",
          "text": [
            "/usr/local/lib/python3.7/dist-packages/seaborn/_decorators.py:43: FutureWarning: Pass the following variable as a keyword arg: x. From version 0.12, the only valid positional argument will be `data`, and passing other arguments without an explicit keyword will result in an error or misinterpretation.\n",
            "  FutureWarning\n"
          ]
        },
        {
          "output_type": "display_data",
          "data": {
            "image/png": "[encoded data removed]",
            "text/plain": [
              "<Figure size 576x288 with 1 Axes>"
            ]
          },
          "metadata": {
            "needs_background": "light"
          }
        },
        {
          "output_type": "stream",
          "name": "stderr",
          "text": [
            "/usr/local/lib/python3.7/dist-packages/seaborn/_decorators.py:43: FutureWarning: Pass the following variable as a keyword arg: x. From version 0.12, the only valid positional argument will be `data`, and passing other arguments without an explicit keyword will result in an error or misinterpretation.\n",
            "  FutureWarning\n"
          ]
        },
        {
          "output_type": "display_data",
          "data": {
            "image/png": "[encoded data removed]",
            "text/plain": [
              "<Figure size 576x288 with 1 Axes>"
            ]
          },
          "metadata": {
            "needs_background": "light"
          }
        }
      ]
    },
    {
      "cell_type": "code",
      "metadata": {
        "colab": {
          "base_uri": "https://localhost:8080/",
          "height": 379
        },
        "id": "gimAJBVfLIRe",
        "outputId": "02f2b400-939e-4c2a-e847-415b2570ab90"
      },
      "source": [
        "def wordcloud(text):\n",
        "  wordcloud = WordCloud(colormap=\"Dark2\", width=600, height=300, max_font_size=100, max_words=40).generate(text)\n",
        "  wordcloud.recolor(random_state=ind*312)\n",
        "  plt.imshow(wordcloud,interpolation='bilinear')\n",
        "  plt.axis(\"off\")\n",
        "  plt.show()\n",
        "Title_text = \"\"\n",
        "Headline_text = \"\"\n",
        "for ind, row in Train.iterrows():\n",
        "    Title_text += row[\"Title\"] + \" \"\n",
        "    Headline_text +=row[\"Headline\"]+\" \"\n",
        "Title_text = Title_text.strip()\n",
        "Headline_text=Headline_text.strip()\n",
        "wordcloud(Title_text)\n",
        "wordcloud(Headline_text)\n",
        "  \n",
        "      "
      ],
      "execution_count": 72,
      "outputs": [
        {
          "output_type": "display_data",
          "data": {
            "image/png": "[encoded data removed]",
            "text/plain": [
              "<Figure size 432x288 with 1 Axes>"
            ]
          },
          "metadata": {
            "needs_background": "light"
          }
        },
        {
          "output_type": "display_data",
          "data": {
            "image/png": "[encoded data removed]",
            "text/plain": [
              "<Figure size 432x288 with 1 Axes>"
            ]
          },
          "metadata": {
            "needs_background": "light"
          }
        }
      ]
    },
    {
      "cell_type": "markdown",
      "metadata": {
        "id": "_aZc80r7Nd5b"
      },
      "source": [
        "**Feature Engineering**"
      ]
    },
    {
      "cell_type": "code",
      "metadata": {
        "id": "EI_0UZ6DKMJd"
      },
      "source": [
        "\n",
        "Train.PublishDate = pd.to_datetime(Train.PublishDate)\n",
        "months = Train.PublishDate.dt.month\n",
        "minutes=Train.PublishDate.dt.minute\n",
        "years = Train.PublishDate.dt.year\n",
        "hours=Train.PublishDate.dt.hour\n",
        "day_name = Train.PublishDate.dt.day_name()\n",
        "days = pd.get_dummies(day_name)\n",
        "\n",
        "\n",
        "Test.PublishDate = pd.to_datetime(Test.PublishDate)\n",
        "months_test= Test.PublishDate.dt.month\n",
        "minutes_test=Test.PublishDate.dt.minute\n",
        "years_test = Test.PublishDate.dt.year\n",
        "hours_test=Test.PublishDate.dt.hour\n",
        "day_name_test = Test.PublishDate.dt.day_name()\n",
        "days_test = pd.get_dummies(day_name_test)\n",
        "\n",
        "\n"
      ],
      "execution_count": 73,
      "outputs": []
    },
    {
      "cell_type": "code",
      "metadata": {
        "colab": {
          "base_uri": "https://localhost:8080/",
          "height": 666
        },
        "id": "TFMoibJwKPiJ",
        "outputId": "069c09c1-4bdd-4e9b-9688-2ab9939b9a12"
      },
      "source": [
        "\n",
        "Train['year']=years\n",
        "Train['Month']=months\n",
        "Train['hour']=hours\n",
        "Train['minute']=minutes\n",
        "Train=pd.concat([Train,days],axis=1)\n",
        "Train.drop('PublishDate',axis=1)\n",
        "Train.head()"
      ],
      "execution_count": 74,
      "outputs": [
        {
          "output_type": "execute_result",
          "data": {
            "text/html": [
              "<div>\n",
              "<style scoped>\n",
              "    .dataframe tbody tr th:only-of-type {\n",
              "        vertical-align: middle;\n",
              "    }\n",
              "\n",
              "    .dataframe tbody tr th {\n",
              "        vertical-align: top;\n",
              "    }\n",
              "\n",
              "    .dataframe thead th {\n",
              "        text-align: right;\n",
              "    }\n",
              "</style>\n",
              "<table border=\"1\" class=\"dataframe\">\n",
              "  <thead>\n",
              "    <tr style=\"text-align: right;\">\n",
              "      <th></th>\n",
              "      <th>IDLink</th>\n",
              "      <th>Title</th>\n",
              "      <th>Headline</th>\n",
              "      <th>Source</th>\n",
              "      <th>Topic</th>\n",
              "      <th>PublishDate</th>\n",
              "      <th>Facebook</th>\n",
              "      <th>GooglePlus</th>\n",
              "      <th>LinkedIn</th>\n",
              "      <th>SentimentTitle</th>\n",
              "      <th>SentimentHeadline</th>\n",
              "      <th>year</th>\n",
              "      <th>Month</th>\n",
              "      <th>hour</th>\n",
              "      <th>minute</th>\n",
              "      <th>Friday</th>\n",
              "      <th>Monday</th>\n",
              "      <th>Saturday</th>\n",
              "      <th>Sunday</th>\n",
              "      <th>Thursday</th>\n",
              "      <th>Tuesday</th>\n",
              "      <th>Wednesday</th>\n",
              "    </tr>\n",
              "  </thead>\n",
              "  <tbody>\n",
              "    <tr>\n",
              "      <th>0</th>\n",
              "      <td>Tr3CMgRv1N</td>\n",
              "      <td>Obama Lays Wreath at Arlington National Cemetery</td>\n",
              "      <td>Obama Lays Wreath at Arlington National Cemete...</td>\n",
              "      <td>USA TODAY</td>\n",
              "      <td>obama</td>\n",
              "      <td>2002-04-02 00:00:00</td>\n",
              "      <td>-1</td>\n",
              "      <td>-1</td>\n",
              "      <td>-1</td>\n",
              "      <td>0.000000</td>\n",
              "      <td>-0.053300</td>\n",
              "      <td>2002</td>\n",
              "      <td>4</td>\n",
              "      <td>0</td>\n",
              "      <td>0</td>\n",
              "      <td>0</td>\n",
              "      <td>0</td>\n",
              "      <td>0</td>\n",
              "      <td>0</td>\n",
              "      <td>0</td>\n",
              "      <td>1</td>\n",
              "      <td>0</td>\n",
              "    </tr>\n",
              "    <tr>\n",
              "      <th>1</th>\n",
              "      <td>Wc81vGp8qZ</td>\n",
              "      <td>A Look at the Health of the Chinese Economy</td>\n",
              "      <td>Tim Haywood, investment director business-unit...</td>\n",
              "      <td>Bloomberg</td>\n",
              "      <td>economy</td>\n",
              "      <td>2008-09-20 00:00:00</td>\n",
              "      <td>-1</td>\n",
              "      <td>-1</td>\n",
              "      <td>-1</td>\n",
              "      <td>0.208333</td>\n",
              "      <td>-0.156386</td>\n",
              "      <td>2008</td>\n",
              "      <td>9</td>\n",
              "      <td>0</td>\n",
              "      <td>0</td>\n",
              "      <td>0</td>\n",
              "      <td>0</td>\n",
              "      <td>1</td>\n",
              "      <td>0</td>\n",
              "      <td>0</td>\n",
              "      <td>0</td>\n",
              "      <td>0</td>\n",
              "    </tr>\n",
              "    <tr>\n",
              "      <th>2</th>\n",
              "      <td>zNGH03CrZH</td>\n",
              "      <td>Nouriel Roubini: Global Economy Not Back to 2008</td>\n",
              "      <td>Nouriel Roubini, NYU professor and chairman at...</td>\n",
              "      <td>Bloomberg</td>\n",
              "      <td>economy</td>\n",
              "      <td>2012-01-28 00:00:00</td>\n",
              "      <td>-1</td>\n",
              "      <td>-1</td>\n",
              "      <td>-1</td>\n",
              "      <td>-0.425210</td>\n",
              "      <td>0.139754</td>\n",
              "      <td>2012</td>\n",
              "      <td>1</td>\n",
              "      <td>0</td>\n",
              "      <td>0</td>\n",
              "      <td>0</td>\n",
              "      <td>0</td>\n",
              "      <td>1</td>\n",
              "      <td>0</td>\n",
              "      <td>0</td>\n",
              "      <td>0</td>\n",
              "      <td>0</td>\n",
              "    </tr>\n",
              "    <tr>\n",
              "      <th>3</th>\n",
              "      <td>3sM1H0W8ts</td>\n",
              "      <td>Finland GDP Expands In Q4</td>\n",
              "      <td>Finland's economy expanded marginally in the t...</td>\n",
              "      <td>RTT News</td>\n",
              "      <td>economy</td>\n",
              "      <td>2015-03-01 00:06:00</td>\n",
              "      <td>-1</td>\n",
              "      <td>-1</td>\n",
              "      <td>-1</td>\n",
              "      <td>0.000000</td>\n",
              "      <td>0.026064</td>\n",
              "      <td>2015</td>\n",
              "      <td>3</td>\n",
              "      <td>0</td>\n",
              "      <td>6</td>\n",
              "      <td>0</td>\n",
              "      <td>0</td>\n",
              "      <td>0</td>\n",
              "      <td>1</td>\n",
              "      <td>0</td>\n",
              "      <td>0</td>\n",
              "      <td>0</td>\n",
              "    </tr>\n",
              "    <tr>\n",
              "      <th>4</th>\n",
              "      <td>wUbnxgvqaZ</td>\n",
              "      <td>Tourism, govt spending buoys Thai economy in J...</td>\n",
              "      <td>Tourism and public spending continued to boost...</td>\n",
              "      <td>The Nation - Thailand&amp;#39;s English news</td>\n",
              "      <td>economy</td>\n",
              "      <td>2015-03-01 00:11:00</td>\n",
              "      <td>-1</td>\n",
              "      <td>-1</td>\n",
              "      <td>-1</td>\n",
              "      <td>0.000000</td>\n",
              "      <td>0.141084</td>\n",
              "      <td>2015</td>\n",
              "      <td>3</td>\n",
              "      <td>0</td>\n",
              "      <td>11</td>\n",
              "      <td>0</td>\n",
              "      <td>0</td>\n",
              "      <td>0</td>\n",
              "      <td>1</td>\n",
              "      <td>0</td>\n",
              "      <td>0</td>\n",
              "      <td>0</td>\n",
              "    </tr>\n",
              "  </tbody>\n",
              "</table>\n",
              "</div>"
            ],
            "text/plain": [
              "       IDLink  ... Wednesday\n",
              "0  Tr3CMgRv1N  ...         0\n",
              "1  Wc81vGp8qZ  ...         0\n",
              "2  zNGH03CrZH  ...         0\n",
              "3  3sM1H0W8ts  ...         0\n",
              "4  wUbnxgvqaZ  ...         0\n",
              "\n",
              "[5 rows x 22 columns]"
            ]
          },
          "metadata": {},
          "execution_count": 74
        }
      ]
    },
    {
      "cell_type": "code",
      "metadata": {
        "colab": {
          "base_uri": "https://localhost:8080/",
          "height": 683
        },
        "id": "-vLskP2RKPp9",
        "outputId": "7b167d77-5316-435b-91f1-f2b8bf12370e"
      },
      "source": [
        "\n",
        "Test['year']=years\n",
        "Test['Month']=months\n",
        "Test['hour']=hours\n",
        "Test['minute']=minutes\n",
        "Test=pd.concat([Test,days_test],axis=1)\n",
        "Test.drop(['PublishDate'],axis=1)\n",
        "Test.head()"
      ],
      "execution_count": 75,
      "outputs": [
        {
          "output_type": "execute_result",
          "data": {
            "text/html": [
              "<div>\n",
              "<style scoped>\n",
              "    .dataframe tbody tr th:only-of-type {\n",
              "        vertical-align: middle;\n",
              "    }\n",
              "\n",
              "    .dataframe tbody tr th {\n",
              "        vertical-align: top;\n",
              "    }\n",
              "\n",
              "    .dataframe thead th {\n",
              "        text-align: right;\n",
              "    }\n",
              "</style>\n",
              "<table border=\"1\" class=\"dataframe\">\n",
              "  <thead>\n",
              "    <tr style=\"text-align: right;\">\n",
              "      <th></th>\n",
              "      <th>IDLink</th>\n",
              "      <th>Title</th>\n",
              "      <th>Headline</th>\n",
              "      <th>Source</th>\n",
              "      <th>Topic</th>\n",
              "      <th>PublishDate</th>\n",
              "      <th>Facebook</th>\n",
              "      <th>GooglePlus</th>\n",
              "      <th>LinkedIn</th>\n",
              "      <th>year</th>\n",
              "      <th>Month</th>\n",
              "      <th>hour</th>\n",
              "      <th>minute</th>\n",
              "      <th>Friday</th>\n",
              "      <th>Monday</th>\n",
              "      <th>Saturday</th>\n",
              "      <th>Sunday</th>\n",
              "      <th>Thursday</th>\n",
              "      <th>Tuesday</th>\n",
              "      <th>Wednesday</th>\n",
              "    </tr>\n",
              "  </thead>\n",
              "  <tbody>\n",
              "    <tr>\n",
              "      <th>0</th>\n",
              "      <td>tFrqIR6Chj</td>\n",
              "      <td>Sliding Economy: FG fights back with N3trn TSA...</td>\n",
              "      <td>With the 2016 budget now passed by the Nationa...</td>\n",
              "      <td>BusinessDay</td>\n",
              "      <td>economy</td>\n",
              "      <td>2016-03-29 01:41:12</td>\n",
              "      <td>0</td>\n",
              "      <td>0</td>\n",
              "      <td>1</td>\n",
              "      <td>2002</td>\n",
              "      <td>4</td>\n",
              "      <td>0</td>\n",
              "      <td>0</td>\n",
              "      <td>0</td>\n",
              "      <td>0</td>\n",
              "      <td>0</td>\n",
              "      <td>0</td>\n",
              "      <td>0</td>\n",
              "      <td>1</td>\n",
              "      <td>0</td>\n",
              "    </tr>\n",
              "    <tr>\n",
              "      <th>1</th>\n",
              "      <td>DVAaGErjlF</td>\n",
              "      <td>Microsoft shows how HoloLens can bring distant...</td>\n",
              "      <td>A recent Microsoft Research video shows how th...</td>\n",
              "      <td>Daily Mail</td>\n",
              "      <td>microsoft</td>\n",
              "      <td>2016-03-29 01:41:27</td>\n",
              "      <td>121</td>\n",
              "      <td>2</td>\n",
              "      <td>13</td>\n",
              "      <td>2008</td>\n",
              "      <td>9</td>\n",
              "      <td>0</td>\n",
              "      <td>0</td>\n",
              "      <td>0</td>\n",
              "      <td>0</td>\n",
              "      <td>0</td>\n",
              "      <td>0</td>\n",
              "      <td>0</td>\n",
              "      <td>1</td>\n",
              "      <td>0</td>\n",
              "    </tr>\n",
              "    <tr>\n",
              "      <th>2</th>\n",
              "      <td>OT9UIZm5M2</td>\n",
              "      <td>Microsoft’s Twitter Robot Praises Hitler, Trum...</td>\n",
              "      <td>* Microsoft teamed with Bing to create TayTwee...</td>\n",
              "      <td>EURweb</td>\n",
              "      <td>microsoft</td>\n",
              "      <td>2016-03-29 01:47:00</td>\n",
              "      <td>12</td>\n",
              "      <td>1</td>\n",
              "      <td>0</td>\n",
              "      <td>2012</td>\n",
              "      <td>1</td>\n",
              "      <td>0</td>\n",
              "      <td>0</td>\n",
              "      <td>0</td>\n",
              "      <td>0</td>\n",
              "      <td>0</td>\n",
              "      <td>0</td>\n",
              "      <td>0</td>\n",
              "      <td>1</td>\n",
              "      <td>0</td>\n",
              "    </tr>\n",
              "    <tr>\n",
              "      <th>3</th>\n",
              "      <td>lflGp3q2Fj</td>\n",
              "      <td>Flood of Central Bank Moves Can't Get World Ec...</td>\n",
              "      <td>Central bankers have managed to steer the worl...</td>\n",
              "      <td>Bloomberg via Yahoo! Finance</td>\n",
              "      <td>economy</td>\n",
              "      <td>2016-03-29 02:00:00</td>\n",
              "      <td>0</td>\n",
              "      <td>0</td>\n",
              "      <td>3</td>\n",
              "      <td>2015</td>\n",
              "      <td>3</td>\n",
              "      <td>0</td>\n",
              "      <td>6</td>\n",
              "      <td>0</td>\n",
              "      <td>0</td>\n",
              "      <td>0</td>\n",
              "      <td>0</td>\n",
              "      <td>0</td>\n",
              "      <td>1</td>\n",
              "      <td>0</td>\n",
              "    </tr>\n",
              "    <tr>\n",
              "      <th>4</th>\n",
              "      <td>zDYG0SoovZ</td>\n",
              "      <td>USD/JPY: bears lining up on mixed U.S. economy...</td>\n",
              "      <td>However, this streak of seven-day gains might ...</td>\n",
              "      <td>FXStreet</td>\n",
              "      <td>economy</td>\n",
              "      <td>2016-03-29 02:01:07</td>\n",
              "      <td>3</td>\n",
              "      <td>0</td>\n",
              "      <td>0</td>\n",
              "      <td>2015</td>\n",
              "      <td>3</td>\n",
              "      <td>0</td>\n",
              "      <td>11</td>\n",
              "      <td>0</td>\n",
              "      <td>0</td>\n",
              "      <td>0</td>\n",
              "      <td>0</td>\n",
              "      <td>0</td>\n",
              "      <td>1</td>\n",
              "      <td>0</td>\n",
              "    </tr>\n",
              "  </tbody>\n",
              "</table>\n",
              "</div>"
            ],
            "text/plain": [
              "       IDLink  ... Wednesday\n",
              "0  tFrqIR6Chj  ...         0\n",
              "1  DVAaGErjlF  ...         0\n",
              "2  OT9UIZm5M2  ...         0\n",
              "3  lflGp3q2Fj  ...         0\n",
              "4  zDYG0SoovZ  ...         0\n",
              "\n",
              "[5 rows x 20 columns]"
            ]
          },
          "metadata": {},
          "execution_count": 75
        }
      ]
    },
    {
      "cell_type": "markdown",
      "metadata": {
        "id": "FO9FE598NjNB"
      },
      "source": [
        "**Text Cleaning**"
      ]
    },
    {
      "cell_type": "code",
      "metadata": {
        "colab": {
          "base_uri": "https://localhost:8080/"
        },
        "id": "PSe0-uhFKPtO",
        "outputId": "a429564f-23df-4835-8f39-3ca60a02a50b"
      },
      "source": [
        "nltk.download('stopwords')\n",
        "nltk.download('punkt')\n",
        "nltk.download('wordnet')\n",
        "def stopwords_Removal(text):\n",
        "    stop_words = set(stopwords.words('english')) \n",
        "    word_tokens = word_tokenize(text) \n",
        "    output_text = [w for w in word_tokens if not w in stop_words] \n",
        "    output = [] \n",
        "    for w in word_tokens: \n",
        "         if w not in stop_words: \n",
        "              output.append(w) \n",
        "    return output"
      ],
      "execution_count": 76,
      "outputs": [
        {
          "output_type": "stream",
          "name": "stdout",
          "text": [
            "[nltk_data] Downloading package stopwords to /root/nltk_data...\n",
            "[nltk_data]   Package stopwords is already up-to-date!\n",
            "[nltk_data] Downloading package punkt to /root/nltk_data...\n",
            "[nltk_data]   Package punkt is already up-to-date!\n",
            "[nltk_data] Downloading package wordnet to /root/nltk_data...\n",
            "[nltk_data]   Package wordnet is already up-to-date!\n"
          ]
        }
      ]
    },
    {
      "cell_type": "code",
      "metadata": {
        "id": "5wZuq-gHLXja"
      },
      "source": [
        "\n",
        "\n",
        "def clean_text(text):\n",
        "   text=re.sub('<.*?>', ' ',str(text))\n",
        "   text = text.translate(str.maketrans(' ',' ',string.punctuation))\n",
        "   text = re.sub('[^a-zA-Z]',' ',text) \n",
        "   text = re.sub(\"\\n\",\" \",text)\n",
        "   text = text.lower()\n",
        "   \n",
        "   return text"
      ],
      "execution_count": 77,
      "outputs": []
    },
    {
      "cell_type": "code",
      "metadata": {
        "colab": {
          "base_uri": "https://localhost:8080/",
          "height": 649
        },
        "id": "oKAFxbHuLXsj",
        "outputId": "5e21ce63-9e74-4b20-fbec-b42bb7a319c4"
      },
      "source": [
        "Train[\"Title\"]=Train[\"Title\"].apply(clean_text)\n",
        "Train[\"Headline\"]=Train[\"Headline\"].apply(clean_text)\n",
        "Test[\"Title\"]=Test[\"Title\"].apply(clean_text)\n",
        "\n",
        "Test[\"Headline\"]=Test[\"Headline\"].apply(clean_text)\n",
        "Train.head()"
      ],
      "execution_count": 78,
      "outputs": [
        {
          "output_type": "execute_result",
          "data": {
            "text/html": [
              "<div>\n",
              "<style scoped>\n",
              "    .dataframe tbody tr th:only-of-type {\n",
              "        vertical-align: middle;\n",
              "    }\n",
              "\n",
              "    .dataframe tbody tr th {\n",
              "        vertical-align: top;\n",
              "    }\n",
              "\n",
              "    .dataframe thead th {\n",
              "        text-align: right;\n",
              "    }\n",
              "</style>\n",
              "<table border=\"1\" class=\"dataframe\">\n",
              "  <thead>\n",
              "    <tr style=\"text-align: right;\">\n",
              "      <th></th>\n",
              "      <th>IDLink</th>\n",
              "      <th>Title</th>\n",
              "      <th>Headline</th>\n",
              "      <th>Source</th>\n",
              "      <th>Topic</th>\n",
              "      <th>PublishDate</th>\n",
              "      <th>Facebook</th>\n",
              "      <th>GooglePlus</th>\n",
              "      <th>LinkedIn</th>\n",
              "      <th>SentimentTitle</th>\n",
              "      <th>SentimentHeadline</th>\n",
              "      <th>year</th>\n",
              "      <th>Month</th>\n",
              "      <th>hour</th>\n",
              "      <th>minute</th>\n",
              "      <th>Friday</th>\n",
              "      <th>Monday</th>\n",
              "      <th>Saturday</th>\n",
              "      <th>Sunday</th>\n",
              "      <th>Thursday</th>\n",
              "      <th>Tuesday</th>\n",
              "      <th>Wednesday</th>\n",
              "    </tr>\n",
              "  </thead>\n",
              "  <tbody>\n",
              "    <tr>\n",
              "      <th>0</th>\n",
              "      <td>Tr3CMgRv1N</td>\n",
              "      <td>obama lays wreath at arlington national cemetery</td>\n",
              "      <td>obama lays wreath at arlington national cemete...</td>\n",
              "      <td>USA TODAY</td>\n",
              "      <td>obama</td>\n",
              "      <td>2002-04-02 00:00:00</td>\n",
              "      <td>-1</td>\n",
              "      <td>-1</td>\n",
              "      <td>-1</td>\n",
              "      <td>0.000000</td>\n",
              "      <td>-0.053300</td>\n",
              "      <td>2002</td>\n",
              "      <td>4</td>\n",
              "      <td>0</td>\n",
              "      <td>0</td>\n",
              "      <td>0</td>\n",
              "      <td>0</td>\n",
              "      <td>0</td>\n",
              "      <td>0</td>\n",
              "      <td>0</td>\n",
              "      <td>1</td>\n",
              "      <td>0</td>\n",
              "    </tr>\n",
              "    <tr>\n",
              "      <th>1</th>\n",
              "      <td>Wc81vGp8qZ</td>\n",
              "      <td>a look at the health of the chinese economy</td>\n",
              "      <td>tim haywood investment director businessunit h...</td>\n",
              "      <td>Bloomberg</td>\n",
              "      <td>economy</td>\n",
              "      <td>2008-09-20 00:00:00</td>\n",
              "      <td>-1</td>\n",
              "      <td>-1</td>\n",
              "      <td>-1</td>\n",
              "      <td>0.208333</td>\n",
              "      <td>-0.156386</td>\n",
              "      <td>2008</td>\n",
              "      <td>9</td>\n",
              "      <td>0</td>\n",
              "      <td>0</td>\n",
              "      <td>0</td>\n",
              "      <td>0</td>\n",
              "      <td>1</td>\n",
              "      <td>0</td>\n",
              "      <td>0</td>\n",
              "      <td>0</td>\n",
              "      <td>0</td>\n",
              "    </tr>\n",
              "    <tr>\n",
              "      <th>2</th>\n",
              "      <td>zNGH03CrZH</td>\n",
              "      <td>nouriel roubini global economy not back to</td>\n",
              "      <td>nouriel roubini nyu professor and chairman at ...</td>\n",
              "      <td>Bloomberg</td>\n",
              "      <td>economy</td>\n",
              "      <td>2012-01-28 00:00:00</td>\n",
              "      <td>-1</td>\n",
              "      <td>-1</td>\n",
              "      <td>-1</td>\n",
              "      <td>-0.425210</td>\n",
              "      <td>0.139754</td>\n",
              "      <td>2012</td>\n",
              "      <td>1</td>\n",
              "      <td>0</td>\n",
              "      <td>0</td>\n",
              "      <td>0</td>\n",
              "      <td>0</td>\n",
              "      <td>1</td>\n",
              "      <td>0</td>\n",
              "      <td>0</td>\n",
              "      <td>0</td>\n",
              "      <td>0</td>\n",
              "    </tr>\n",
              "    <tr>\n",
              "      <th>3</th>\n",
              "      <td>3sM1H0W8ts</td>\n",
              "      <td>finland gdp expands in q</td>\n",
              "      <td>finlands economy expanded marginally in the th...</td>\n",
              "      <td>RTT News</td>\n",
              "      <td>economy</td>\n",
              "      <td>2015-03-01 00:06:00</td>\n",
              "      <td>-1</td>\n",
              "      <td>-1</td>\n",
              "      <td>-1</td>\n",
              "      <td>0.000000</td>\n",
              "      <td>0.026064</td>\n",
              "      <td>2015</td>\n",
              "      <td>3</td>\n",
              "      <td>0</td>\n",
              "      <td>6</td>\n",
              "      <td>0</td>\n",
              "      <td>0</td>\n",
              "      <td>0</td>\n",
              "      <td>1</td>\n",
              "      <td>0</td>\n",
              "      <td>0</td>\n",
              "      <td>0</td>\n",
              "    </tr>\n",
              "    <tr>\n",
              "      <th>4</th>\n",
              "      <td>wUbnxgvqaZ</td>\n",
              "      <td>tourism govt spending buoys thai economy in ja...</td>\n",
              "      <td>tourism and public spending continued to boost...</td>\n",
              "      <td>The Nation - Thailand&amp;#39;s English news</td>\n",
              "      <td>economy</td>\n",
              "      <td>2015-03-01 00:11:00</td>\n",
              "      <td>-1</td>\n",
              "      <td>-1</td>\n",
              "      <td>-1</td>\n",
              "      <td>0.000000</td>\n",
              "      <td>0.141084</td>\n",
              "      <td>2015</td>\n",
              "      <td>3</td>\n",
              "      <td>0</td>\n",
              "      <td>11</td>\n",
              "      <td>0</td>\n",
              "      <td>0</td>\n",
              "      <td>0</td>\n",
              "      <td>1</td>\n",
              "      <td>0</td>\n",
              "      <td>0</td>\n",
              "      <td>0</td>\n",
              "    </tr>\n",
              "  </tbody>\n",
              "</table>\n",
              "</div>"
            ],
            "text/plain": [
              "       IDLink  ... Wednesday\n",
              "0  Tr3CMgRv1N  ...         0\n",
              "1  Wc81vGp8qZ  ...         0\n",
              "2  zNGH03CrZH  ...         0\n",
              "3  3sM1H0W8ts  ...         0\n",
              "4  wUbnxgvqaZ  ...         0\n",
              "\n",
              "[5 rows x 22 columns]"
            ]
          },
          "metadata": {},
          "execution_count": 78
        }
      ]
    },
    {
      "cell_type": "code",
      "metadata": {
        "id": "KGX9t3jXLhN4"
      },
      "source": [
        "X_Train_title = Train.drop(['SentimentTitle','SentimentHeadline','IDLink','PublishDate'],axis=1)\n",
        "y_Train_title = Train['SentimentTitle']\n",
        "\n",
        "X_Train_headline = Train.drop(['SentimentHeadline','SentimentTitle','IDLink','PublishDate'],axis=1)\n",
        "y_Train_headline = Train['SentimentHeadline']\n",
        "\n"
      ],
      "execution_count": 79,
      "outputs": []
    },
    {
      "cell_type": "code",
      "metadata": {
        "id": "EL_iNYcWLjnM"
      },
      "source": [
        "Xt_train,Xt_test,yt_train,yt_test = train_test_split(X_Train_title,y_Train_title,test_size = 0.2,random_state = 42)\n",
        "Xh_train,Xh_test,yh_train,yh_test = train_test_split(X_Train_headline,y_Train_headline,test_size = 0.1,random_state = 42)"
      ],
      "execution_count": 80,
      "outputs": []
    },
    {
      "cell_type": "code",
      "metadata": {
        "colab": {
          "base_uri": "https://localhost:8080/",
          "height": 700
        },
        "id": "nb_fAwwiLlEk",
        "outputId": "dc7c5567-9130-43ed-a1b4-f9f32eef638f"
      },
      "source": [
        "Xt_train.head()"
      ],
      "execution_count": 81,
      "outputs": [
        {
          "output_type": "execute_result",
          "data": {
            "text/html": [
              "<div>\n",
              "<style scoped>\n",
              "    .dataframe tbody tr th:only-of-type {\n",
              "        vertical-align: middle;\n",
              "    }\n",
              "\n",
              "    .dataframe tbody tr th {\n",
              "        vertical-align: top;\n",
              "    }\n",
              "\n",
              "    .dataframe thead th {\n",
              "        text-align: right;\n",
              "    }\n",
              "</style>\n",
              "<table border=\"1\" class=\"dataframe\">\n",
              "  <thead>\n",
              "    <tr style=\"text-align: right;\">\n",
              "      <th></th>\n",
              "      <th>Title</th>\n",
              "      <th>Headline</th>\n",
              "      <th>Source</th>\n",
              "      <th>Topic</th>\n",
              "      <th>Facebook</th>\n",
              "      <th>GooglePlus</th>\n",
              "      <th>LinkedIn</th>\n",
              "      <th>year</th>\n",
              "      <th>Month</th>\n",
              "      <th>hour</th>\n",
              "      <th>minute</th>\n",
              "      <th>Friday</th>\n",
              "      <th>Monday</th>\n",
              "      <th>Saturday</th>\n",
              "      <th>Sunday</th>\n",
              "      <th>Thursday</th>\n",
              "      <th>Tuesday</th>\n",
              "      <th>Wednesday</th>\n",
              "    </tr>\n",
              "  </thead>\n",
              "  <tbody>\n",
              "    <tr>\n",
              "      <th>49320</th>\n",
              "      <td>microsoft is considering compensating xbox liv...</td>\n",
              "      <td>xbox live has been buckling a lot recently dem...</td>\n",
              "      <td>Destructoid</td>\n",
              "      <td>microsoft</td>\n",
              "      <td>46</td>\n",
              "      <td>4</td>\n",
              "      <td>4</td>\n",
              "      <td>2016</td>\n",
              "      <td>3</td>\n",
              "      <td>10</td>\n",
              "      <td>6</td>\n",
              "      <td>1</td>\n",
              "      <td>0</td>\n",
              "      <td>0</td>\n",
              "      <td>0</td>\n",
              "      <td>0</td>\n",
              "      <td>0</td>\n",
              "      <td>0</td>\n",
              "    </tr>\n",
              "    <tr>\n",
              "      <th>19939</th>\n",
              "      <td>microsoft launches nokia     dual sim priced a...</td>\n",
              "      <td>microsoft launches nokia     dual sim priced a...</td>\n",
              "      <td>Times of India</td>\n",
              "      <td>microsoft</td>\n",
              "      <td>15</td>\n",
              "      <td>0</td>\n",
              "      <td>0</td>\n",
              "      <td>2015</td>\n",
              "      <td>12</td>\n",
              "      <td>11</td>\n",
              "      <td>9</td>\n",
              "      <td>0</td>\n",
              "      <td>0</td>\n",
              "      <td>0</td>\n",
              "      <td>0</td>\n",
              "      <td>0</td>\n",
              "      <td>0</td>\n",
              "      <td>1</td>\n",
              "    </tr>\n",
              "    <tr>\n",
              "      <th>18804</th>\n",
              "      <td>india may be third largest economy after      ...</td>\n",
              "      <td>india could become the worlds third largest ec...</td>\n",
              "      <td>DNA India</td>\n",
              "      <td>economy</td>\n",
              "      <td>2</td>\n",
              "      <td>0</td>\n",
              "      <td>0</td>\n",
              "      <td>2015</td>\n",
              "      <td>12</td>\n",
              "      <td>2</td>\n",
              "      <td>28</td>\n",
              "      <td>0</td>\n",
              "      <td>0</td>\n",
              "      <td>0</td>\n",
              "      <td>1</td>\n",
              "      <td>0</td>\n",
              "      <td>0</td>\n",
              "      <td>0</td>\n",
              "    </tr>\n",
              "    <tr>\n",
              "      <th>48701</th>\n",
              "      <td>obama teases trudeau over hockey hints at broa...</td>\n",
              "      <td>us president barack obama and canadian prime m...</td>\n",
              "      <td>CNN</td>\n",
              "      <td>obama</td>\n",
              "      <td>421</td>\n",
              "      <td>0</td>\n",
              "      <td>36</td>\n",
              "      <td>2016</td>\n",
              "      <td>3</td>\n",
              "      <td>9</td>\n",
              "      <td>59</td>\n",
              "      <td>0</td>\n",
              "      <td>0</td>\n",
              "      <td>0</td>\n",
              "      <td>0</td>\n",
              "      <td>1</td>\n",
              "      <td>0</td>\n",
              "      <td>0</td>\n",
              "    </tr>\n",
              "    <tr>\n",
              "      <th>35087</th>\n",
              "      <td>obama muslims on tv deserve to be portrayed as...</td>\n",
              "      <td>president barack obama said that muslims in me...</td>\n",
              "      <td>Huffington Post</td>\n",
              "      <td>obama</td>\n",
              "      <td>312</td>\n",
              "      <td>0</td>\n",
              "      <td>0</td>\n",
              "      <td>2016</td>\n",
              "      <td>2</td>\n",
              "      <td>20</td>\n",
              "      <td>45</td>\n",
              "      <td>0</td>\n",
              "      <td>0</td>\n",
              "      <td>0</td>\n",
              "      <td>0</td>\n",
              "      <td>0</td>\n",
              "      <td>0</td>\n",
              "      <td>1</td>\n",
              "    </tr>\n",
              "  </tbody>\n",
              "</table>\n",
              "</div>"
            ],
            "text/plain": [
              "                                                   Title  ... Wednesday\n",
              "49320  microsoft is considering compensating xbox liv...  ...         0\n",
              "19939  microsoft launches nokia     dual sim priced a...  ...         1\n",
              "18804  india may be third largest economy after      ...  ...         0\n",
              "48701  obama teases trudeau over hockey hints at broa...  ...         0\n",
              "35087  obama muslims on tv deserve to be portrayed as...  ...         1\n",
              "\n",
              "[5 rows x 18 columns]"
            ]
          },
          "metadata": {},
          "execution_count": 81
        }
      ]
    },
    {
      "cell_type": "markdown",
      "metadata": {
        "id": "ITndkNFvNoRG"
      },
      "source": [
        "**Text Feature Extraction**"
      ]
    },
    {
      "cell_type": "code",
      "metadata": {
        "id": "uZ_NYik2LlQQ"
      },
      "source": [
        "from spacy.lang.en import English\n",
        "nlp = English()\n",
        "def spacy_tokenizer(sentence):\n",
        "    mytokens = nlp(sentence)\n",
        "    mytokens = [ word.lemma_.lower().strip() if word.lemma_ != \"-PRON-\" else word.lower_ for word in mytokens ]\n",
        "    return mytokens"
      ],
      "execution_count": 82,
      "outputs": []
    },
    {
      "cell_type": "code",
      "metadata": {
        "id": "3Z3SWnDpLsr6"
      },
      "source": [
        "from sklearn.feature_extraction.text import TfidfVectorizer\n",
        "from sklearn.feature_extraction import DictVectorizer\n",
        "from scipy.sparse import hstack\n",
        "bow_vector = TfidfVectorizer(max_features = 100,tokenizer = spacy_tokenizer,ngram_range=(1,2))"
      ],
      "execution_count": 83,
      "outputs": []
    },
    {
      "cell_type": "code",
      "metadata": {
        "id": "Q0YMX6UMLtwM"
      },
      "source": [
        "\n",
        "pipe1= Pipeline([('vectorizer', bow_vector)])\n",
        "pipe2= Pipeline(\n",
        " [('vectorizer', bow_vector)]   \n",
        ")\n",
        "Xt_cv = pipe1.fit_transform(list(Xt_train['Title']))\n",
        "Xt_test_cv = pipe1.transform(list(Xt_test['Title']))\n",
        "\n",
        "\n",
        "Xh_cv = pipe2.fit_transform(list(Xh_train['Headline']))\n",
        "Xh_test_cv = pipe2.transform(list(Xh_test['Headline']))\n"
      ],
      "execution_count": 84,
      "outputs": []
    },
    {
      "cell_type": "code",
      "metadata": {
        "colab": {
          "base_uri": "https://localhost:8080/"
        },
        "id": "yIFtQCepLwPV",
        "outputId": "b3a92e2d-05c6-49d7-d4c7-c62a2ca39def"
      },
      "source": [
        "Xt_cv"
      ],
      "execution_count": 85,
      "outputs": [
        {
          "output_type": "execute_result",
          "data": {
            "text/plain": [
              "<44745x100 sparse matrix of type '<class 'numpy.float64'>'\n",
              "\twith 168287 stored elements in Compressed Sparse Row format>"
            ]
          },
          "metadata": {},
          "execution_count": 85
        }
      ]
    },
    {
      "cell_type": "code",
      "metadata": {
        "colab": {
          "base_uri": "https://localhost:8080/"
        },
        "id": "StjIm3nLLwXM",
        "outputId": "5326495f-4d3e-4717-8644-7884fe415bb1"
      },
      "source": [
        "Xh_cv"
      ],
      "execution_count": 86,
      "outputs": [
        {
          "output_type": "execute_result",
          "data": {
            "text/plain": [
              "<50338x100 sparse matrix of type '<class 'numpy.float64'>'\n",
              "\twith 549865 stored elements in Compressed Sparse Row format>"
            ]
          },
          "metadata": {},
          "execution_count": 86
        }
      ]
    },
    {
      "cell_type": "code",
      "metadata": {
        "colab": {
          "base_uri": "https://localhost:8080/"
        },
        "id": "Jy1hhw3SLz-d",
        "outputId": "a0fa8e67-bf34-429c-bf51-50bbbd2962ff"
      },
      "source": [
        "Xt_test_cv"
      ],
      "execution_count": 87,
      "outputs": [
        {
          "output_type": "execute_result",
          "data": {
            "text/plain": [
              "<11187x100 sparse matrix of type '<class 'numpy.float64'>'\n",
              "\twith 41869 stored elements in Compressed Sparse Row format>"
            ]
          },
          "metadata": {},
          "execution_count": 87
        }
      ]
    },
    {
      "cell_type": "code",
      "metadata": {
        "colab": {
          "base_uri": "https://localhost:8080/"
        },
        "id": "s0QAuhxkL0G3",
        "outputId": "c1fb7dbc-cbad-4abe-c08d-823b0cc900e6"
      },
      "source": [
        "Xh_test_cv"
      ],
      "execution_count": 88,
      "outputs": [
        {
          "output_type": "execute_result",
          "data": {
            "text/plain": [
              "<5594x100 sparse matrix of type '<class 'numpy.float64'>'\n",
              "\twith 60674 stored elements in Compressed Sparse Row format>"
            ]
          },
          "metadata": {},
          "execution_count": 88
        }
      ]
    },
    {
      "cell_type": "code",
      "metadata": {
        "id": "rJx8_-QML_qj"
      },
      "source": [
        "enc = DictVectorizer()\n",
        "enc2 = DictVectorizer()\n",
        "X_train_categ = enc.fit_transform(Xt_train.to_dict('records'))\n",
        "X_test_categ = enc.transform(Xt_test.to_dict('records'))\n",
        "\n",
        "X = hstack([Xt_cv,X_train_categ])\n",
        "\n",
        "X_t = hstack([Xt_test_cv,X_test_categ])\n",
        "\n",
        "X_h_train_categ = enc2.fit_transform(Xh_train.drop(['Title','Headline'],axis=1).to_dict('records'))\n",
        "X_h_test_categ = enc2.transform(Xh_test.drop(['Title','Headline'],axis=1).to_dict('records'))\n",
        "\n",
        "X_h = hstack([Xh_cv,X_h_train_categ])\n",
        "X_h_t = hstack([Xh_test_cv,X_h_test_categ])\n"
      ],
      "execution_count": 94,
      "outputs": []
    },
    {
      "cell_type": "code",
      "metadata": {
        "colab": {
          "base_uri": "https://localhost:8080/"
        },
        "id": "6E9n2JgszRhd",
        "outputId": "c8b50ce9-59e4-4934-93f9-61c4d9606f85"
      },
      "source": [
        "X_h_t\n",
        "Xh_test_cv\n",
        "X_h_test_categ"
      ],
      "execution_count": 95,
      "outputs": [
        {
          "output_type": "execute_result",
          "data": {
            "text/plain": [
              "<5594x4554 sparse matrix of type '<class 'numpy.float64'>'\n",
              "\twith 89278 stored elements in Compressed Sparse Row format>"
            ]
          },
          "metadata": {},
          "execution_count": 95
        }
      ]
    },
    {
      "cell_type": "markdown",
      "metadata": {
        "id": "OH4vjlXqN_ZU"
      },
      "source": [
        "**Linear Regression**"
      ]
    },
    {
      "cell_type": "code",
      "metadata": {
        "id": "DY746s8Nw_cl"
      },
      "source": [
        "\n",
        "def model_run(classifier,X_train,X_test,y_train,y_test):\n",
        "  classifier.fit(X_train,y_train)\n",
        "  print(X_test.shape)\n",
        "  preds = classifier.predict(X_test)\n",
        "  return classifier,preds\n",
        "\n"
      ],
      "execution_count": 96,
      "outputs": []
    },
    {
      "cell_type": "code",
      "metadata": {
        "id": "1c3XGBrVN5AJ",
        "colab": {
          "base_uri": "https://localhost:8080/"
        },
        "outputId": "2a1789eb-8df0-4aef-d78a-4ef558e955ce"
      },
      "source": [
        "from sklearn.linear_model import LinearRegression,BayesianRidge\n",
        "lr = LinearRegression()\n",
        "lr2 = LinearRegression()\n",
        "modelt_lr,predst_lr = model_run(lr,X,X_t,yt_train,yt_test)\n",
        "modelh_lr,predst_lr_h = model_run(lr2,X_h,X_h_t,yh_train,yh_test)"
      ],
      "execution_count": 97,
      "outputs": [
        {
          "output_type": "stream",
          "name": "stdout",
          "text": [
            "(11187, 85695)\n",
            "(5594, 4654)\n"
          ]
        }
      ]
    },
    {
      "cell_type": "code",
      "metadata": {
        "id": "3GtyC0thN5In",
        "colab": {
          "base_uri": "https://localhost:8080/"
        },
        "outputId": "3af58551-73de-43ce-d2cf-f207dd5c9b3b"
      },
      "source": [
        "from sklearn.metrics import accuracy_score,f1_score,roc_auc_score,mean_absolute_error,mean_squared_error\n",
        "print(mean_absolute_error(yt_test,predst_lr),mean_absolute_error(yh_test,predst_lr_h))\n",
        "score_r = max(0,1-(0.4*(mean_absolute_error(yt_test,predst_lr))+ 0.6*(mean_absolute_error(yh_test,predst_lr_h)))) \n",
        "print(score_r)"
      ],
      "execution_count": 98,
      "outputs": [
        {
          "output_type": "stream",
          "name": "stdout",
          "text": [
            "0.07123471839395236 0.09450142004339576\n",
            "0.9148052606163816\n"
          ]
        }
      ]
    },
    {
      "cell_type": "markdown",
      "metadata": {
        "id": "imKV6BTQOC_r"
      },
      "source": [
        "**Ridge Regression**"
      ]
    },
    {
      "cell_type": "code",
      "metadata": {
        "colab": {
          "base_uri": "https://localhost:8080/"
        },
        "id": "cPwzzvt6L_w9",
        "outputId": "a4b6784b-e86a-4cab-91c1-74c984f7903f"
      },
      "source": [
        "from sklearn.linear_model import Ridge\n",
        "clf = Ridge(alpha=1.0, random_state=241)\n",
        "clf2= Ridge(alpha=1.0, random_state=241)\n",
        "model,preds = model_run(clf,X,X_t,yt_train,yt_test)\n",
        "model_h,preds_h = model_run(clf2,X_h,X_h_t,yh_train,yh_test)"
      ],
      "execution_count": 99,
      "outputs": [
        {
          "output_type": "stream",
          "name": "stdout",
          "text": [
            "(11187, 85695)\n",
            "(5594, 4654)\n"
          ]
        }
      ]
    },
    {
      "cell_type": "code",
      "metadata": {
        "colab": {
          "base_uri": "https://localhost:8080/"
        },
        "id": "2kwDrXCVMLtL",
        "outputId": "5b404cf2-5b7b-44b1-ef91-eb43ed5308aa"
      },
      "source": [
        "\n",
        "from sklearn.metrics import accuracy_score,f1_score,roc_auc_score,mean_absolute_error,mean_squared_error\n",
        "print(mean_absolute_error(yt_test,preds),mean_absolute_error(yh_test,preds_h))\n",
        "score_r = max(0,1-(0.4*(mean_absolute_error(yt_test,preds))+ 0.6*(mean_absolute_error(yh_test,preds_h)))) \n",
        "print(score_r)"
      ],
      "execution_count": 100,
      "outputs": [
        {
          "output_type": "stream",
          "name": "stdout",
          "text": [
            "0.07377002092863076 0.09331599020629032\n",
            "0.9145023975047735\n"
          ]
        }
      ]
    },
    {
      "cell_type": "markdown",
      "metadata": {
        "id": "cbXhTMidOIc8"
      },
      "source": [
        "**Support vector regression**"
      ]
    },
    {
      "cell_type": "code",
      "metadata": {
        "colab": {
          "base_uri": "https://localhost:8080/"
        },
        "id": "KnvYjQunMU1P",
        "outputId": "a64f25fe-ee31-4448-fd71-e25a569b7aae"
      },
      "source": [
        "from sklearn.svm import SVR\n",
        "regressor = SVR(kernel = 'rbf')\n",
        "regressor_1 = SVR(kernel = 'rbf')\n",
        "modelt_svm,predst_svr = model_run(regressor,X,X_t,yt_train,yt_test)\n",
        "modelh_svm,predst_svr_h = model_run(regressor_1,X_h,X_h_t,yh_train,yh_test)"
      ],
      "execution_count": 101,
      "outputs": [
        {
          "output_type": "stream",
          "name": "stdout",
          "text": [
            "(11187, 85695)\n",
            "(5594, 4654)\n"
          ]
        }
      ]
    },
    {
      "cell_type": "code",
      "metadata": {
        "colab": {
          "base_uri": "https://localhost:8080/"
        },
        "id": "VV36dO6MMU8j",
        "outputId": "c429f363-4c75-4f6e-fd64-127eaf946f92"
      },
      "source": [
        "from sklearn.metrics import accuracy_score,f1_score,roc_auc_score,mean_absolute_error,mean_squared_error\n",
        "print(mean_absolute_error(yt_test,predst_svr),mean_absolute_error(yh_test,predst_svr_h))\n",
        "score_r = max(0,1-(0.4*(mean_absolute_error(yt_test,predst_svr))+ 0.6*(mean_absolute_error(yh_test,predst_svr_h)))) \n",
        "print(score_r)"
      ],
      "execution_count": 102,
      "outputs": [
        {
          "output_type": "stream",
          "name": "stdout",
          "text": [
            "0.09786632340030224 0.10889931599032236\n",
            "0.8955138810456857\n"
          ]
        }
      ]
    },
    {
      "cell_type": "markdown",
      "metadata": {
        "id": "S9Oji9QWOSd2"
      },
      "source": [
        "**Random Forest Regression**"
      ]
    },
    {
      "cell_type": "code",
      "metadata": {
        "id": "4qECsCyXMVCs"
      },
      "source": [
        "from sklearn.ensemble import RandomForestRegressor\n",
        "RF = RandomForestRegressor(n_estimators = 20, random_state = 0)\n",
        "RF.fit(X,yt_train)\n",
        "RF_2 = RandomForestRegressor(n_estimators = 20, random_state = 0)\n",
        "RF_2.fit(X_h,yh_train)\n",
        "preds_RF = RF.predict(X_t)\n",
        "preds_RF_h = RF_2.predict(X_h_t)"
      ],
      "execution_count": 103,
      "outputs": []
    },
    {
      "cell_type": "code",
      "metadata": {
        "colab": {
          "base_uri": "https://localhost:8080/"
        },
        "id": "2QPwplwVMVI4",
        "outputId": "2f729ad9-8b95-487b-a984-644db514e8c6"
      },
      "source": [
        "\n",
        "print(mean_absolute_error(yt_test,preds_RF),mean_absolute_error(yh_test,preds_RF_h))\n",
        "score = max(0,1-(0.4*mean_absolute_error(yt_test,preds_RF)+ 0.6*mean_absolute_error(yh_test,preds_RF_h))) \n",
        "print(score)"
      ],
      "execution_count": 104,
      "outputs": [
        {
          "output_type": "stream",
          "name": "stdout",
          "text": [
            "0.07395097437775126 0.08693639571045068\n",
            "0.9182577728226291\n"
          ]
        }
      ]
    },
    {
      "cell_type": "markdown",
      "metadata": {
        "id": "Wf3UEn8NOYv_"
      },
      "source": [
        "**Testing**"
      ]
    },
    {
      "cell_type": "code",
      "metadata": {
        "id": "c7uc8P3_MVQK"
      },
      "source": [
        "X_Test_headline = Test.drop(['IDLink','PublishDate'],axis=1)"
      ],
      "execution_count": 105,
      "outputs": []
    },
    {
      "cell_type": "code",
      "metadata": {
        "id": "TRrbnWcAMVVr"
      },
      "source": [
        "X_Test_title = Test.drop(['IDLink','PublishDate'],axis=1)"
      ],
      "execution_count": 106,
      "outputs": []
    },
    {
      "cell_type": "code",
      "metadata": {
        "id": "nShRO-xpMVZD"
      },
      "source": [
        "\n",
        "test_t_cv = pipe1.transform(list(X_Test_title['Title']))\n",
        "test_h_cv = pipe1.transform(list(X_Test_headline['Headline']))\n",
        "test_categ_t = enc.transform(X_Test_title.to_dict('records'))\n",
        "test_categ_h = enc2.transform(X_Test_headline.to_dict('records'))\n",
        "\n",
        "Xtitle_test = hstack([test_t_cv,test_categ_t])\n",
        "Xheadline_test=hstack([test_h_cv,test_categ_h])"
      ],
      "execution_count": 107,
      "outputs": []
    },
    {
      "cell_type": "code",
      "metadata": {
        "id": "5NX3Ye7VMhCR"
      },
      "source": [
        "\n",
        "preds_t_test = model.predict(Xtitle_test)\n",
        "preds_h_test = model_h.predict(Xheadline_test)"
      ],
      "execution_count": 108,
      "outputs": []
    },
    {
      "cell_type": "code",
      "metadata": {
        "id": "uJPuOekgMirY"
      },
      "source": [
        "\n",
        "data_ridge= {'IDLink':Test['IDLink'],'SentimentTitle':preds_t_test,'SentimentHeadline':preds_h_test}\n",
        "final_ridge = pd.DataFrame(data=data_ridge)"
      ],
      "execution_count": 109,
      "outputs": []
    },
    {
      "cell_type": "code",
      "metadata": {
        "colab": {
          "base_uri": "https://localhost:8080/",
          "height": 204
        },
        "id": "2aWKFCMnMiwn",
        "outputId": "97115525-b581-49e0-c7ae-80201a410956"
      },
      "source": [
        "final_ridge.head()"
      ],
      "execution_count": 110,
      "outputs": [
        {
          "output_type": "execute_result",
          "data": {
            "text/html": [
              "<div>\n",
              "<style scoped>\n",
              "    .dataframe tbody tr th:only-of-type {\n",
              "        vertical-align: middle;\n",
              "    }\n",
              "\n",
              "    .dataframe tbody tr th {\n",
              "        vertical-align: top;\n",
              "    }\n",
              "\n",
              "    .dataframe thead th {\n",
              "        text-align: right;\n",
              "    }\n",
              "</style>\n",
              "<table border=\"1\" class=\"dataframe\">\n",
              "  <thead>\n",
              "    <tr style=\"text-align: right;\">\n",
              "      <th></th>\n",
              "      <th>IDLink</th>\n",
              "      <th>SentimentTitle</th>\n",
              "      <th>SentimentHeadline</th>\n",
              "    </tr>\n",
              "  </thead>\n",
              "  <tbody>\n",
              "    <tr>\n",
              "      <th>0</th>\n",
              "      <td>tFrqIR6Chj</td>\n",
              "      <td>0.154378</td>\n",
              "      <td>-0.061807</td>\n",
              "    </tr>\n",
              "    <tr>\n",
              "      <th>1</th>\n",
              "      <td>DVAaGErjlF</td>\n",
              "      <td>-0.063162</td>\n",
              "      <td>-0.005357</td>\n",
              "    </tr>\n",
              "    <tr>\n",
              "      <th>2</th>\n",
              "      <td>OT9UIZm5M2</td>\n",
              "      <td>0.022508</td>\n",
              "      <td>-0.016774</td>\n",
              "    </tr>\n",
              "    <tr>\n",
              "      <th>3</th>\n",
              "      <td>lflGp3q2Fj</td>\n",
              "      <td>-0.003237</td>\n",
              "      <td>-0.029752</td>\n",
              "    </tr>\n",
              "    <tr>\n",
              "      <th>4</th>\n",
              "      <td>zDYG0SoovZ</td>\n",
              "      <td>0.067796</td>\n",
              "      <td>-0.037737</td>\n",
              "    </tr>\n",
              "  </tbody>\n",
              "</table>\n",
              "</div>"
            ],
            "text/plain": [
              "       IDLink  SentimentTitle  SentimentHeadline\n",
              "0  tFrqIR6Chj        0.154378          -0.061807\n",
              "1  DVAaGErjlF       -0.063162          -0.005357\n",
              "2  OT9UIZm5M2        0.022508          -0.016774\n",
              "3  lflGp3q2Fj       -0.003237          -0.029752\n",
              "4  zDYG0SoovZ        0.067796          -0.037737"
            ]
          },
          "metadata": {},
          "execution_count": 110
        }
      ]
    },
    {
      "cell_type": "code",
      "metadata": {
        "id": "DdOI0_j5Miy6"
      },
      "source": [
        "preds_t_test_lr = modelt_lr.predict(Xtitle_test)\n",
        "preds_h_test_lr = modelh_lr.predict(Xheadline_test)"
      ],
      "execution_count": 111,
      "outputs": []
    },
    {
      "cell_type": "code",
      "metadata": {
        "id": "D078nm_5MmLi"
      },
      "source": [
        "linear_reg= {'IDLink':Test['IDLink'],'SentimentTitle':preds_t_test_lr,'SentimentHeadline':preds_h_test_lr}\n",
        "linear_reg = pd.DataFrame(data=linear_reg)"
      ],
      "execution_count": 112,
      "outputs": []
    },
    {
      "cell_type": "code",
      "metadata": {
        "id": "Xlm0RPn7MmNm"
      },
      "source": [
        "preds_t_test_svr = modelt_svm.predict(Xtitle_test)\n",
        "preds_h_test_svr = modelh_svm.predict(Xheadline_test)"
      ],
      "execution_count": 113,
      "outputs": []
    },
    {
      "cell_type": "code",
      "metadata": {
        "id": "9Go47NHAMmQG"
      },
      "source": [
        "svr_reg= {'IDLink':Test['IDLink'],'SentimentTitle':preds_t_test_svr,'SentimentHeadline':preds_h_test_svr}\n",
        "svr_reg = pd.DataFrame(data=svr_reg)"
      ],
      "execution_count": 114,
      "outputs": []
    },
    {
      "cell_type": "code",
      "metadata": {
        "id": "wWT8KpqTGWyy"
      },
      "source": [
        "preds_t_test_rf = RF.predict(Xtitle_test)\n",
        "preds_h_test_rf = RF_2.predict(Xheadline_test)"
      ],
      "execution_count": 115,
      "outputs": []
    },
    {
      "cell_type": "code",
      "metadata": {
        "id": "l6vm6x2XJA7Z"
      },
      "source": [
        "rf_reg= {'IDLink':Test['IDLink'],'SentimentTitle':preds_t_test_rf,'SentimentHeadline':preds_h_test_rf}\n",
        "rf_data = pd.DataFrame(data=rf_reg)"
      ],
      "execution_count": 115,
      "outputs": []
    },
    {
      "cell_type": "code",
      "metadata": {
        "id": "tYegDBP_JBF0"
      },
      "source": [
        "final_ridge.to_csv('/content/zs_submission1.csv',index=False)\n",
        "linear_reg.to_csv('/content/zs_submission2.csv',index=False)\n",
        "svr_reg.to_csv('/content/zs_submission3.csv',index=False)\n",
        "rf_data.to_csv('/content/zs_submission4.csv',index=False)"
      ],
      "execution_count": 115,
      "outputs": []
    }
  ]
}